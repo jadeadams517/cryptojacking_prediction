{
 "cells": [
  {
   "cell_type": "code",
   "execution_count": 2,
   "metadata": {},
   "outputs": [],
   "source": [
    "# import libraries\n",
    "\n",
    "import pandas as pd\n",
    "import numpy as np"
   ]
  },
  {
   "cell_type": "code",
   "execution_count": 3,
   "metadata": {},
   "outputs": [
    {
     "name": "stderr",
     "output_type": "stream",
     "text": [
      "/Users/jadeadams/opt/anaconda3/envs/learn-env/lib/python3.8/site-packages/IPython/core/interactiveshell.py:3145: DtypeWarning: Columns (14,19,26,27,52,57) have mixed types.Specify dtype option on import or set low_memory=False.\n",
      "  has_raised = await self.run_ast_nodes(code_ast.body, cell_name,\n"
     ]
    },
    {
     "name": "stdout",
     "output_type": "stream",
     "text": [
      "<class 'pandas.core.frame.DataFrame'>\n",
      "RangeIndex: 95312 entries, 0 to 95311\n",
      "Data columns (total 82 columns):\n",
      " #   Column                         Non-Null Count  Dtype  \n",
      "---  ------                         --------------  -----  \n",
      " 0   cpu_guest                      95311 non-null  float64\n",
      " 1   cpu_guest_nice                 95311 non-null  float64\n",
      " 2   cpu_idle                       95311 non-null  float64\n",
      " 3   cpu_iowait                     95311 non-null  float64\n",
      " 4   cpu_irq                        95310 non-null  float64\n",
      " 5   cpu_nice                       95310 non-null  float64\n",
      " 6   cpu_softirq                    95311 non-null  float64\n",
      " 7   cpu_steal                      95310 non-null  float64\n",
      " 8   cpu_system                     95311 non-null  float64\n",
      " 9   cpu_total                      95310 non-null  float64\n",
      " 10  cpu_user                       95311 non-null  float64\n",
      " 11  diskio_sda1_disk_name          95312 non-null  object \n",
      " 12  diskio_sda1_key                95312 non-null  object \n",
      " 13  diskio_sda1_read_bytes         95312 non-null  float64\n",
      " 14  diskio_sda1_time_since_update  95312 non-null  object \n",
      " 15  diskio_sda1_write_bytes        95312 non-null  int64  \n",
      " 16  diskio_sda_disk_name           95312 non-null  object \n",
      " 17  diskio_sda_key                 95312 non-null  object \n",
      " 18  diskio_sda_read_bytes          95312 non-null  float64\n",
      " 19  diskio_sda_time_since_update   95312 non-null  object \n",
      " 20  diskio_sda_write_bytes         95312 non-null  int64  \n",
      " 21  fs_/_device_name               95312 non-null  object \n",
      " 22  fs_/_free                      95312 non-null  int64  \n",
      " 23  fs_/_fs_type                   95312 non-null  object \n",
      " 24  fs_/_key                       95312 non-null  object \n",
      " 25  fs_/_mnt_point                 95312 non-null  object \n",
      " 26  fs_/_percent                   95312 non-null  object \n",
      " 27  fs_/_size                      95312 non-null  object \n",
      " 28  fs_/_used                      95312 non-null  int64  \n",
      " 29  load_cpucore                   95312 non-null  int64  \n",
      " 30  load_min1                      95312 non-null  float64\n",
      " 31  load_min15                     95312 non-null  float64\n",
      " 32  load_min5                      95312 non-null  float64\n",
      " 33  mem_active                     95312 non-null  int64  \n",
      " 34  mem_available                  95312 non-null  int64  \n",
      " 35  mem_buffers                    95311 non-null  float64\n",
      " 36  mem_cached                     95312 non-null  int64  \n",
      " 37  mem_free                       95312 non-null  int64  \n",
      " 38  mem_inactive                   95312 non-null  int64  \n",
      " 39  mem_percent                    95312 non-null  float64\n",
      " 40  mem_shared                     95312 non-null  float64\n",
      " 41  mem_total                      95311 non-null  float64\n",
      " 42  mem_used                       95312 non-null  int64  \n",
      " 43  memswap_free                   95312 non-null  int64  \n",
      " 44  memswap_percent                95312 non-null  float64\n",
      " 45  memswap_sin                    95312 non-null  int64  \n",
      " 46  memswap_sout                   95312 non-null  int64  \n",
      " 47  memswap_total                  95312 non-null  int64  \n",
      " 48  memswap_used                   95312 non-null  int64  \n",
      " 49  network_lo_cumulative_cx       95311 non-null  float64\n",
      " 50  network_lo_cumulative_rx       95311 non-null  float64\n",
      " 51  network_lo_cumulative_tx       95311 non-null  float64\n",
      " 52  network_lo_cx                  95311 non-null  object \n",
      " 53  network_lo_interface_name      95311 non-null  object \n",
      " 54  network_lo_key                 95311 non-null  object \n",
      " 55  network_lo_rx                  95311 non-null  float64\n",
      " 56  network_lo_time_since_update   95311 non-null  float64\n",
      " 57  network_lo_tx                  95311 non-null  object \n",
      " 58  percpu_0_cpu_number            95312 non-null  int64  \n",
      " 59  percpu_0_guest                 95312 non-null  float64\n",
      " 60  percpu_0_guest_nice            95312 non-null  float64\n",
      " 61  percpu_0_idle                  95312 non-null  float64\n",
      " 62  percpu_0_iowait                95312 non-null  float64\n",
      " 63  percpu_0_irq                   95312 non-null  float64\n",
      " 64  percpu_0_key                   95312 non-null  object \n",
      " 65  percpu_0_nice                  95312 non-null  float64\n",
      " 66  percpu_0_softirq               95312 non-null  float64\n",
      " 67  percpu_0_steal                 95312 non-null  float64\n",
      " 68  percpu_0_system                95312 non-null  float64\n",
      " 69  percpu_0_total                 95312 non-null  float64\n",
      " 70  percpu_0_user                  95312 non-null  float64\n",
      " 71  processcount_running           95311 non-null  float64\n",
      " 72  processcount_sleeping          95311 non-null  float64\n",
      " 73  processcount_thread            95311 non-null  float64\n",
      " 74  processcount_total             95311 non-null  float64\n",
      " 75  system_hostname                95312 non-null  object \n",
      " 76  system_hr_name                 95312 non-null  object \n",
      " 77  system_linux_distro            95312 non-null  object \n",
      " 78  system_os_name                 95312 non-null  object \n",
      " 79  system_os_version              95312 non-null  object \n",
      " 80  system_platform                95312 non-null  object \n",
      " 81  timestamp                      95312 non-null  object \n",
      "dtypes: float64(41), int64(17), object(24)\n",
      "memory usage: 59.6+ MB\n"
     ]
    }
   ],
   "source": [
    "#import df's\n",
    "#note warning for mixed data types\n",
    "\n",
    "data = pd.read_csv('data/final-complete-data-set.csv')\n",
    "abnormal = pd.read_csv('data/final-anormal-data-set.csv')\n",
    "normal = pd.read_csv('data/final-normal-data-set.csv')\n",
    " \n",
    "data.info()"
   ]
  },
  {
   "cell_type": "code",
   "execution_count": 4,
   "metadata": {},
   "outputs": [
    {
     "name": "stdout",
     "output_type": "stream",
     "text": [
      "<class 'pandas.core.frame.DataFrame'>\n",
      "RangeIndex: 14461 entries, 0 to 14460\n",
      "Data columns (total 83 columns):\n",
      " #   Column                         Non-Null Count  Dtype  \n",
      "---  ------                         --------------  -----  \n",
      " 0   cpu_guest                      14461 non-null  int64  \n",
      " 1   cpu_guest_nice                 14461 non-null  int64  \n",
      " 2   cpu_idle                       14461 non-null  float64\n",
      " 3   cpu_steal                      14460 non-null  float64\n",
      " 4   cpu_iowait                     14461 non-null  float64\n",
      " 5   cpu_irq                        14460 non-null  float64\n",
      " 6   cpu_nice                       14460 non-null  float64\n",
      " 7   cpu_softirq                    14461 non-null  float64\n",
      " 8   cpu_system                     14461 non-null  float64\n",
      " 9   cpu_total                      14460 non-null  float64\n",
      " 10  cpu_user                       14461 non-null  float64\n",
      " 11  diskio_sda1_disk_name          14461 non-null  object \n",
      " 12  diskio_sda1_key                14461 non-null  object \n",
      " 13  diskio_sda1_read_bytes         14461 non-null  float64\n",
      " 14  diskio_sda1_time_since_update  14461 non-null  object \n",
      " 15  diskio_sda1_write_bytes        14461 non-null  int64  \n",
      " 16  diskio_sda_disk_name           14461 non-null  object \n",
      " 17  diskio_sda_key                 14461 non-null  object \n",
      " 18  diskio_sda_read_bytes          14461 non-null  float64\n",
      " 19  diskio_sda_time_since_update   14461 non-null  object \n",
      " 20  diskio_sda_write_bytes         14461 non-null  int64  \n",
      " 21  fs_/_device_name               14461 non-null  object \n",
      " 22  fs_/_free                      14461 non-null  int64  \n",
      " 23  fs_/_fs_type                   14461 non-null  object \n",
      " 24  fs_/_key                       14461 non-null  object \n",
      " 25  fs_/_mnt_point                 14461 non-null  object \n",
      " 26  fs_/_percent                   14461 non-null  object \n",
      " 27  fs_/_size                      14461 non-null  object \n",
      " 28  fs_/_used                      14461 non-null  int64  \n",
      " 29  load_cpucore                   14461 non-null  int64  \n",
      " 30  load_min1                      14461 non-null  float64\n",
      " 31  load_min15                     14461 non-null  float64\n",
      " 32  load_min5                      14461 non-null  float64\n",
      " 33  mem_active                     14461 non-null  int64  \n",
      " 34  mem_available                  14461 non-null  int64  \n",
      " 35  mem_buffers                    14461 non-null  int64  \n",
      " 36  mem_cached                     14461 non-null  int64  \n",
      " 37  mem_free                       14461 non-null  int64  \n",
      " 38  mem_inactive                   14461 non-null  int64  \n",
      " 39  mem_percent                    14461 non-null  float64\n",
      " 40  mem_shared                     14461 non-null  float64\n",
      " 41  mem_total                      14461 non-null  int64  \n",
      " 42  mem_used                       14461 non-null  int64  \n",
      " 43  memswap_free                   14461 non-null  int64  \n",
      " 44  memswap_percent                14461 non-null  float64\n",
      " 45  memswap_sin                    14461 non-null  int64  \n",
      " 46  memswap_sout                   14461 non-null  int64  \n",
      " 47  memswap_total                  14461 non-null  int64  \n",
      " 48  memswap_used                   14461 non-null  int64  \n",
      " 49  network_lo_cumulative_cx       14461 non-null  int64  \n",
      " 50  network_lo_cumulative_rx       14461 non-null  int64  \n",
      " 51  network_lo_cumulative_tx       14461 non-null  int64  \n",
      " 52  network_lo_cx                  14461 non-null  object \n",
      " 53  network_lo_interface_name      14461 non-null  object \n",
      " 54  network_lo_key                 14461 non-null  object \n",
      " 55  network_lo_rx                  14461 non-null  int64  \n",
      " 56  network_lo_time_since_update   14461 non-null  float64\n",
      " 57  network_lo_tx                  14461 non-null  object \n",
      " 58  percpu_0_cpu_number            14461 non-null  int64  \n",
      " 59  percpu_0_guest                 14461 non-null  int64  \n",
      " 60  percpu_0_guest_nice            14461 non-null  int64  \n",
      " 61  percpu_0_idle                  14461 non-null  float64\n",
      " 62  percpu_0_iowait                14461 non-null  int64  \n",
      " 63  percpu_0_irq                   14461 non-null  int64  \n",
      " 64  percpu_0_key                   14461 non-null  object \n",
      " 65  percpu_0_nice                  14461 non-null  int64  \n",
      " 66  percpu_0_softirq               14461 non-null  float64\n",
      " 67  percpu_0_steal                 14461 non-null  int64  \n",
      " 68  percpu_0_system                14461 non-null  float64\n",
      " 69  percpu_0_total                 14461 non-null  float64\n",
      " 70  percpu_0_user                  14461 non-null  float64\n",
      " 71  processcount_running           14461 non-null  float64\n",
      " 72  processcount_sleeping          14461 non-null  int64  \n",
      " 73  processcount_thread            14461 non-null  float64\n",
      " 74  processcount_total             14461 non-null  int64  \n",
      " 75  system_hostname                14461 non-null  object \n",
      " 76  system_hr_name                 14461 non-null  object \n",
      " 77  system_linux_distro            14461 non-null  object \n",
      " 78  system_os_name                 14461 non-null  object \n",
      " 79  system_os_version              14461 non-null  object \n",
      " 80  system_platform                14461 non-null  object \n",
      " 81  timestamp                      14461 non-null  object \n",
      " 82  target                         14461 non-null  int64  \n",
      "dtypes: float64(25), int64(34), object(24)\n",
      "memory usage: 9.2+ MB\n"
     ]
    }
   ],
   "source": [
    "# add target var to normal and abnormal df\n",
    "\n",
    "#0 is not hijacked, 1 is not hijacked\n",
    "normal['target'] = 0\n",
    "\n",
    "abnormal['target'] = 1\n",
    "\n",
    "abnormal.info()"
   ]
  },
  {
   "cell_type": "code",
   "execution_count": 5,
   "metadata": {},
   "outputs": [
    {
     "data": {
      "text/plain": [
       "1    14461\n",
       "Name: target, dtype: int64"
      ]
     },
     "execution_count": 5,
     "metadata": {},
     "output_type": "execute_result"
    }
   ],
   "source": [
    "abnormal['target'].value_counts()"
   ]
  },
  {
   "cell_type": "code",
   "execution_count": 6,
   "metadata": {},
   "outputs": [
    {
     "name": "stdout",
     "output_type": "stream",
     "text": [
      "<class 'pandas.core.frame.DataFrame'>\n",
      "Int64Index: 95310 entries, 0 to 14460\n",
      "Data columns (total 83 columns):\n",
      " #   Column                         Non-Null Count  Dtype  \n",
      "---  ------                         --------------  -----  \n",
      " 0   cpu_guest                      95310 non-null  float64\n",
      " 1   cpu_guest_nice                 95310 non-null  float64\n",
      " 2   cpu_idle                       95310 non-null  float64\n",
      " 3   cpu_iowait                     95310 non-null  float64\n",
      " 4   cpu_irq                        95310 non-null  float64\n",
      " 5   cpu_nice                       95310 non-null  float64\n",
      " 6   cpu_softirq                    95310 non-null  float64\n",
      " 7   cpu_steal                      95310 non-null  float64\n",
      " 8   cpu_system                     95310 non-null  float64\n",
      " 9   cpu_total                      95310 non-null  float64\n",
      " 10  cpu_user                       95310 non-null  float64\n",
      " 11  diskio_sda1_disk_name          95310 non-null  object \n",
      " 12  diskio_sda1_key                95310 non-null  object \n",
      " 13  diskio_sda1_read_bytes         95310 non-null  float64\n",
      " 14  diskio_sda1_time_since_update  95310 non-null  object \n",
      " 15  diskio_sda1_write_bytes        95310 non-null  int64  \n",
      " 16  diskio_sda_disk_name           95310 non-null  object \n",
      " 17  diskio_sda_key                 95310 non-null  object \n",
      " 18  diskio_sda_read_bytes          95310 non-null  float64\n",
      " 19  diskio_sda_time_since_update   95310 non-null  object \n",
      " 20  diskio_sda_write_bytes         95310 non-null  int64  \n",
      " 21  fs_/_device_name               95310 non-null  object \n",
      " 22  fs_/_free                      95310 non-null  int64  \n",
      " 23  fs_/_fs_type                   95310 non-null  object \n",
      " 24  fs_/_key                       95310 non-null  object \n",
      " 25  fs_/_mnt_point                 95310 non-null  object \n",
      " 26  fs_/_percent                   95310 non-null  object \n",
      " 27  fs_/_size                      95310 non-null  object \n",
      " 28  fs_/_used                      95310 non-null  int64  \n",
      " 29  load_cpucore                   95310 non-null  int64  \n",
      " 30  load_min1                      95310 non-null  float64\n",
      " 31  load_min15                     95310 non-null  float64\n",
      " 32  load_min5                      95310 non-null  float64\n",
      " 33  mem_active                     95310 non-null  int64  \n",
      " 34  mem_available                  95310 non-null  int64  \n",
      " 35  mem_buffers                    95310 non-null  float64\n",
      " 36  mem_cached                     95310 non-null  int64  \n",
      " 37  mem_free                       95310 non-null  int64  \n",
      " 38  mem_inactive                   95310 non-null  int64  \n",
      " 39  mem_percent                    95310 non-null  float64\n",
      " 40  mem_shared                     95310 non-null  float64\n",
      " 41  mem_total                      95310 non-null  float64\n",
      " 42  mem_used                       95310 non-null  int64  \n",
      " 43  memswap_free                   95310 non-null  int64  \n",
      " 44  memswap_percent                95310 non-null  float64\n",
      " 45  memswap_sin                    95310 non-null  int64  \n",
      " 46  memswap_sout                   95310 non-null  int64  \n",
      " 47  memswap_total                  95310 non-null  int64  \n",
      " 48  memswap_used                   95310 non-null  int64  \n",
      " 49  network_lo_cumulative_cx       95310 non-null  float64\n",
      " 50  network_lo_cumulative_rx       95310 non-null  float64\n",
      " 51  network_lo_cumulative_tx       95310 non-null  float64\n",
      " 52  network_lo_cx                  95310 non-null  object \n",
      " 53  network_lo_interface_name      95310 non-null  object \n",
      " 54  network_lo_key                 95310 non-null  object \n",
      " 55  network_lo_rx                  95310 non-null  float64\n",
      " 56  network_lo_time_since_update   95310 non-null  float64\n",
      " 57  network_lo_tx                  95310 non-null  object \n",
      " 58  percpu_0_cpu_number            95310 non-null  int64  \n",
      " 59  percpu_0_guest                 95310 non-null  float64\n",
      " 60  percpu_0_guest_nice            95310 non-null  float64\n",
      " 61  percpu_0_idle                  95310 non-null  float64\n",
      " 62  percpu_0_iowait                95310 non-null  float64\n",
      " 63  percpu_0_irq                   95310 non-null  float64\n",
      " 64  percpu_0_key                   95310 non-null  object \n",
      " 65  percpu_0_nice                  95310 non-null  float64\n",
      " 66  percpu_0_softirq               95310 non-null  float64\n",
      " 67  percpu_0_steal                 95310 non-null  float64\n",
      " 68  percpu_0_system                95310 non-null  float64\n",
      " 69  percpu_0_total                 95310 non-null  float64\n",
      " 70  percpu_0_user                  95310 non-null  float64\n",
      " 71  processcount_running           95310 non-null  float64\n",
      " 72  processcount_sleeping          95310 non-null  float64\n",
      " 73  processcount_thread            95310 non-null  float64\n",
      " 74  processcount_total             95310 non-null  float64\n",
      " 75  system_hostname                95310 non-null  object \n",
      " 76  system_hr_name                 95310 non-null  object \n",
      " 77  system_linux_distro            95310 non-null  object \n",
      " 78  system_os_name                 95310 non-null  object \n",
      " 79  system_os_version              95310 non-null  object \n",
      " 80  system_platform                95310 non-null  object \n",
      " 81  timestamp                      95310 non-null  object \n",
      " 82  target                         95310 non-null  int64  \n",
      "dtypes: float64(41), int64(18), object(24)\n",
      "memory usage: 61.1+ MB\n"
     ]
    }
   ],
   "source": [
    "#create merged df\n",
    "\n",
    "df = normal.append(abnormal)\n",
    "\n",
    "\n",
    "df.dropna(inplace=True)\n",
    "\n",
    "df.info()\n"
   ]
  },
  {
   "cell_type": "markdown",
   "metadata": {},
   "source": [
    "# Exploratory Data Analysis"
   ]
  },
  {
   "cell_type": "markdown",
   "metadata": {},
   "source": [
    "As there are 81 different potential variables, understanding all the variables may be a struggle. As I am a data scientist, not a computer engineer, it becomes difficult to understand the shorthand version names listed such as \"network_lo_cx\" or \"diskio_sdal_key\". Fortunately, given the machine learning tools available, the algorithms will be able to parse through valuable numeric and discard. On the other hand, a brief scan through the variables shows that there is a high likelihood some of the numeric and object columns may be better scaled as categorial types.\n",
    "\n",
    "One useful thing we will first do is to first parse through the object columns and see what the values of each show:"
   ]
  },
  {
   "cell_type": "code",
   "execution_count": 6,
   "metadata": {},
   "outputs": [
    {
     "name": "stdout",
     "output_type": "stream",
     "text": [
      "Value counts of unique vals in  diskio_sda1_disk_name  col: sda1    95310\n",
      "Name: diskio_sda1_disk_name, dtype: int64\n",
      "Number of unique values in column  diskio_sda1_disk_name   1\n",
      "Value counts of unique vals in  diskio_sda1_key  col: disk_name    95310\n",
      "Name: diskio_sda1_key, dtype: int64\n",
      "Number of unique values in column  diskio_sda1_key   1\n",
      "Value counts of unique vals in  diskio_sda1_time_since_update  col: 1.0886559486389158    14\n",
      "1.089607000350952     12\n",
      "1.08754301071167      12\n",
      "1.0877339839935305    11\n",
      "1.088135004043579     11\n",
      "                      ..\n",
      "1.284883975982666      1\n",
      "1.0827479362487793     1\n",
      "1.018777847290039      1\n",
      "1.3124818801879885     1\n",
      "1.1942591667175293     1\n",
      "Name: diskio_sda1_time_since_update, Length: 67719, dtype: int64\n",
      "Number of unique values in column  diskio_sda1_time_since_update   67719\n",
      "Value counts of unique vals in  diskio_sda_disk_name  col: sda    95310\n",
      "Name: diskio_sda_disk_name, dtype: int64\n",
      "Number of unique values in column  diskio_sda_disk_name   1\n",
      "Value counts of unique vals in  diskio_sda_key  col: disk_name    95310\n",
      "Name: diskio_sda_key, dtype: int64\n",
      "Number of unique values in column  diskio_sda_key   1\n",
      "Value counts of unique vals in  diskio_sda_time_since_update  col: 1.0886559486389158    14\n",
      "1.089607000350952     12\n",
      "1.08754301071167      12\n",
      "1.0877339839935305    11\n",
      "1.088135004043579     11\n",
      "                      ..\n",
      "1.284883975982666      1\n",
      "1.0827479362487793     1\n",
      "1.018777847290039      1\n",
      "1.3124818801879885     1\n",
      "1.1942591667175293     1\n",
      "Name: diskio_sda_time_since_update, Length: 67719, dtype: int64\n",
      "Number of unique values in column  diskio_sda_time_since_update   67719\n",
      "Value counts of unique vals in  fs_/_device_name  col: /dev/sda1                  80850\n",
      "/dev/mapper/centos-root    14460\n",
      "Name: fs_/_device_name, dtype: int64\n",
      "Number of unique values in column  fs_/_device_name   2\n",
      "Value counts of unique vals in  fs_/_fs_type  col: xfs    95310\n",
      "Name: fs_/_fs_type, dtype: int64\n",
      "Number of unique values in column  fs_/_fs_type   1\n",
      "Value counts of unique vals in  fs_/_key  col: mnt_point    95310\n",
      "Name: fs_/_key, dtype: int64\n",
      "Number of unique values in column  fs_/_key   1\n",
      "Value counts of unique vals in  fs_/_mnt_point  col: /    95310\n",
      "Name: fs_/_mnt_point, dtype: int64\n",
      "Number of unique values in column  fs_/_mnt_point   1\n",
      "Value counts of unique vals in  fs_/_percent  col: 25.7    14617\n",
      "47.1    11776\n",
      "30.8    10462\n",
      "30.7     6911\n",
      "23.7     6798\n",
      "25.6     6714\n",
      "23.6     6574\n",
      "25.5     6498\n",
      "47.2     5470\n",
      "43.5     3300\n",
      "30.9     3007\n",
      "96.7     2941\n",
      "96.8     2768\n",
      "34.5     2317\n",
      "47.0     1177\n",
      "95.1     1156\n",
      "43.4      976\n",
      "34.6      652\n",
      "30.6      635\n",
      "96.9      216\n",
      "23.8      211\n",
      "96.6       47\n",
      "43.5       33\n",
      "95.8       19\n",
      "95.7       11\n",
      "95.9       10\n",
      "96          9\n",
      "96.1        5\n",
      "Name: fs_/_percent, dtype: int64\n",
      "Number of unique values in column  fs_/_percent   28\n",
      "Value counts of unique vals in  fs_/_size  col: 10725883904    80850\n",
      "4708106240      8191\n",
      "4708106240      6269\n",
      "Name: fs_/_size, dtype: int64\n",
      "Number of unique values in column  fs_/_size   3\n",
      "Value counts of unique vals in  network_lo_cx  col: 0.0      86480\n",
      "0         8076\n",
      "288.0      638\n",
      "288        113\n",
      "200          2\n",
      "656          1\n",
      "Name: network_lo_cx, dtype: int64\n",
      "Number of unique values in column  network_lo_cx   6\n",
      "Value counts of unique vals in  network_lo_interface_name  col: lo    95310\n",
      "Name: network_lo_interface_name, dtype: int64\n",
      "Number of unique values in column  network_lo_interface_name   1\n",
      "Value counts of unique vals in  network_lo_key  col: interface_name    95310\n",
      "Name: network_lo_key, dtype: int64\n",
      "Number of unique values in column  network_lo_key   1\n",
      "Value counts of unique vals in  network_lo_tx  col: 0.0      86480\n",
      "0         8076\n",
      "144.0      638\n",
      "144        113\n",
      "100          2\n",
      "328          1\n",
      "Name: network_lo_tx, dtype: int64\n",
      "Number of unique values in column  network_lo_tx   6\n",
      "Value counts of unique vals in  percpu_0_key  col: cpu_number    95310\n",
      "Name: percpu_0_key, dtype: int64\n",
      "Number of unique values in column  percpu_0_key   1\n",
      "Value counts of unique vals in  system_hostname  col: vm4-web-server           27829\n",
      "vm2-node                 21015\n",
      "vm1-graph-analytics      18423\n",
      "localhost.localdomain    14460\n",
      "vm3-tomcat               13583\n",
      "Name: system_hostname, dtype: int64\n",
      "Number of unique values in column  system_hostname   5\n",
      "Value counts of unique vals in  system_hr_name  col: CentOS Linux 7.7.1908 64bit    95310\n",
      "Name: system_hr_name, dtype: int64\n",
      "Number of unique values in column  system_hr_name   1\n",
      "Value counts of unique vals in  system_linux_distro  col: CentOS Linux 7.7.1908    95310\n",
      "Name: system_linux_distro, dtype: int64\n",
      "Number of unique values in column  system_linux_distro   1\n",
      "Value counts of unique vals in  system_os_name  col: Linux    95310\n",
      "Name: system_os_name, dtype: int64\n",
      "Number of unique values in column  system_os_name   1\n",
      "Value counts of unique vals in  system_os_version  col: 3.10.0-1062.12.1.el7.x86_64    92341\n",
      "3.10.0-1062.el7.x86_64          2969\n",
      "Name: system_os_version, dtype: int64\n",
      "Number of unique values in column  system_os_version   2\n",
      "Value counts of unique vals in  system_platform  col: 64bit    95310\n",
      "Name: system_platform, dtype: int64\n",
      "Number of unique values in column  system_platform   1\n",
      "Value counts of unique vals in  timestamp  col: 2020-01-28 20:25:34    3\n",
      "2020-01-28 20:02:35    3\n",
      "2020-01-28 19:44:53    3\n",
      "2020-01-28 19:52:59    3\n",
      "2020-01-28 19:46:18    3\n",
      "                      ..\n",
      "2020-01-29 00:13:24    1\n",
      "2020-01-26 15:36:39    1\n",
      "2020-01-29 16:25:36    1\n",
      "2020-01-26 12:37:26    1\n",
      "2020-01-29 22:26:01    1\n",
      "Name: timestamp, Length: 77332, dtype: int64\n",
      "Number of unique values in column  timestamp   77332\n"
     ]
    }
   ],
   "source": [
    "#build list of columns that have non-int/float params\n",
    "\n",
    "object_col_names = []\n",
    "\n",
    "for name in list(df.columns):\n",
    "    if df[name].dtypes == object:\n",
    "        #examine printed values along with counts\n",
    "        print(\"Value counts of unique vals in \", name, \" col:\", df[name].value_counts())\n",
    "        print(\"Number of unique values in column \", name, \" \", len(df[name].unique()))\n",
    "        object_col_names.append(name)"
   ]
  },
  {
   "cell_type": "markdown",
   "metadata": {},
   "source": [
    "From the output above we can see that there are some columns that need to be converted into numerical types, and there are others that are strings that may be worthwhile as categories. For the string col's:\n",
    "\n",
    "1. vm4-web-server has 5 unique values:\n",
    "\n",
    "vm2-node                 21015\n",
    "vm1-graph-analytics      18423\n",
    "localhost.localdomain    14460\n",
    "vm3-tomcat               13583\n",
    "\n",
    "2. timestamp col needs to be converted to datetime index\n",
    "\n",
    "3. Convert to numeric: diskio_sda1_time_since_update needs to be converted to numeric\n",
    "\n",
    "4. Delete the following columsn for same info for each col: diskio_sda_key, diskio_sda1_key, diskio_sda_disk_name, diskio_sda1_disk_name, system_platform, system_linux_distro, percpu_0_key, network_lo_key, network_lo_interface_name\n",
    "\n",
    "5. Convert to binary: system_os_version (3.10.0-1062.12.1.el7.x86_64 vs 3.10.0-1062.el7.x86_64), fs_/_device_name\n",
    "\n",
    "6. Convert the following to ordinal: network_lo_cx (6), fs_/_size (3)   \n",
    "\n",
    "We can tell from the output above, that we are dealing with all Linux 64-bit computers. They are running on CentOS Linux 7.7.1908."
   ]
  },
  {
   "cell_type": "code",
   "execution_count": 7,
   "metadata": {},
   "outputs": [],
   "source": [
    "#drop info rows\n",
    "\n"
   ]
  },
  {
   "cell_type": "markdown",
   "metadata": {},
   "source": [
    "Now that we've dropped the bad rows, before converting to ordinal rows we need to determine the importance of the time stamps. It'll be important to distinguish each scenario when dividing up the time series. To do this, we'll need to convert all the timestamps."
   ]
  },
  {
   "cell_type": "code",
   "execution_count": 9,
   "metadata": {},
   "outputs": [
    {
     "data": {
      "text/plain": [
       "<AxesSubplot:>"
      ]
     },
     "execution_count": 9,
     "metadata": {},
     "output_type": "execute_result"
    },
    {
     "data": {
      "image/png": "[encoded data removed]",
      "text/plain": [
       "<Figure size 432x288 with 1 Axes>"
      ]
     },
     "metadata": {
      "needs_background": "light"
     },
     "output_type": "display_data"
    }
   ],
   "source": [
    "#examine overall distribution of dates\n",
    "df['timestamp'] = pd.to_datetime(df['timestamp'])\n",
    "df['timestamp'].hist()"
   ]
  },
  {
   "cell_type": "code",
   "execution_count": 9,
   "metadata": {},
   "outputs": [
    {
     "data": {
      "text/plain": [
       "<AxesSubplot:>"
      ]
     },
     "execution_count": 9,
     "metadata": {},
     "output_type": "execute_result"
    },
    {
     "data": {
      "image/png": "[encoded data removed]",
      "text/plain": [
       "<Figure size 432x288 with 1 Axes>"
      ]
     },
     "metadata": {
      "needs_background": "light"
     },
     "output_type": "display_data"
    }
   ],
   "source": [
    "#examine normal dist.. of dates\n",
    "normal['timestamp'] = pd.to_datetime(normal['timestamp'])\n",
    "normal['timestamp'].hist()"
   ]
  },
  {
   "cell_type": "code",
   "execution_count": 12,
   "metadata": {},
   "outputs": [
    {
     "data": {
      "text/plain": [
       "<AxesSubplot:>"
      ]
     },
     "execution_count": 12,
     "metadata": {},
     "output_type": "execute_result"
    },
    {
     "data": {
      "image/png": "[encoded data removed]",
      "text/plain": [
       "<Figure size 432x288 with 1 Axes>"
      ]
     },
     "metadata": {
      "needs_background": "light"
     },
     "output_type": "display_data"
    }
   ],
   "source": [
    "#examine anormal dist. of dates\n",
    "abnormal['timestamp'] = pd.to_datetime(abnormal['timestamp'])\n",
    "\n",
    "abnormal['timestamp'].hist()"
   ]
  },
  {
   "cell_type": "markdown",
   "metadata": {},
   "source": [
    "Examining the difference between normal and anormal sets in qualitative characteristics will help distinguish between the time series. "
   ]
  },
  {
   "cell_type": "code",
   "execution_count": 17,
   "metadata": {},
   "outputs": [
    {
     "name": "stdout",
     "output_type": "stream",
     "text": [
      "['/dev/mapper/centos-root' 'mnt_point']\n",
      "['/dev/sda1']\n"
     ]
    }
   ],
   "source": [
    "print(abnormal['fs_/_device_name'].unique())\n",
    "print(normal['fs_/_device_name'].unique())"
   ]
  },
  {
   "cell_type": "markdown",
   "metadata": {},
   "source": [
    "The attack and normal are modeled on separate devices, shown by the device name."
   ]
  },
  {
   "cell_type": "code",
   "execution_count": 18,
   "metadata": {},
   "outputs": [
    {
     "name": "stdout",
     "output_type": "stream",
     "text": [
      "['3.10.0-1062.12.1.el7.x86_64' 'localhost.localdomain'\n",
      " '3.10.0-1062.el7.x86_64']\n",
      "['3.10.0-1062.12.1.el7.x86_64']\n"
     ]
    }
   ],
   "source": [
    "print(abnormal.system_os_version.unique())\n",
    "print(normal.system_os_version.unique())\n"
   ]
  },
  {
   "cell_type": "code",
   "execution_count": 20,
   "metadata": {},
   "outputs": [
    {
     "name": "stdout",
     "output_type": "stream",
     "text": [
      "['4708106240' '/boot' 4708106240]\n",
      "[10725883904]\n"
     ]
    }
   ],
   "source": [
    "print(abnormal['fs_/_size'].unique())\n",
    "print(normal['fs_/_size'].unique())"
   ]
  },
  {
   "cell_type": "code",
   "execution_count": 21,
   "metadata": {},
   "outputs": [
    {
     "name": "stdout",
     "output_type": "stream",
     "text": [
      "['200' '0' '288' 'lo' 0 656]\n",
      "[  0. 288.  nan]\n"
     ]
    }
   ],
   "source": [
    "print(abnormal['network_lo_cx'].unique())\n",
    "print(normal['network_lo_cx'].unique())"
   ]
  },
  {
   "cell_type": "markdown",
   "metadata": {},
   "source": [
    "### Unsupervised ML for EDA\n",
    "\n",
    "The goal of our unsupervised ML is to determine if the time series are random points and we can just assess this problem as a bianry target, or if we are watching the performance over time of a computer against an attack which will take more time. \n",
    "\n",
    "Then we would build a time series model that matches normal computer performance and using testing, we can null hypothesis against test sets that are either normal or abnormal. "
   ]
  },
  {
   "cell_type": "code",
   "execution_count": null,
   "metadata": {},
   "outputs": [],
   "source": []
  }
 ],
 "metadata": {
  "kernelspec": {
   "display_name": "Python (learn-env)",
   "language": "python",
   "name": "learn-env"
  },
  "language_info": {
   "codemirror_mode": {
    "name": "ipython",
    "version": 3
   },
   "file_extension": ".py",
   "mimetype": "text/x-python",
   "name": "python",
   "nbconvert_exporter": "python",
   "pygments_lexer": "ipython3",
   "version": "3.8.5"
  }
 },
 "nbformat": 4,
 "nbformat_minor": 4
}
